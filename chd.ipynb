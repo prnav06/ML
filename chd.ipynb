{
 "cells": [
  {
   "cell_type": "code",
   "execution_count": 1,
   "metadata": {},
   "outputs": [],
   "source": [
    "#importing imortant libraries\n",
    "import numpy as np\n",
    "import pandas as pd"
   ]
  },
  {
   "cell_type": "code",
   "execution_count": 2,
   "metadata": {},
   "outputs": [],
   "source": [
    "#reading dataset of South Africa Medical Journal\n",
    "chd_df = pd.read_csv(\"SA Heart.csv\")"
   ]
  },
  {
   "cell_type": "code",
   "execution_count": 3,
   "metadata": {},
   "outputs": [
    {
     "name": "stdout",
     "output_type": "stream",
     "text": [
      "<class 'pandas.core.frame.DataFrame'>\n",
      "RangeIndex: 462 entries, 0 to 461\n",
      "Data columns (total 11 columns):\n",
      " #   Column     Non-Null Count  Dtype  \n",
      "---  ------     --------------  -----  \n",
      " 0   ind        462 non-null    int64  \n",
      " 1   sbp        462 non-null    int64  \n",
      " 2   tobacco    462 non-null    float64\n",
      " 3   ldl        462 non-null    float64\n",
      " 4   adiposity  462 non-null    float64\n",
      " 5   famhist    462 non-null    object \n",
      " 6   typea      462 non-null    int64  \n",
      " 7   obesity    462 non-null    float64\n",
      " 8   alcohol    462 non-null    float64\n",
      " 9   age        462 non-null    int64  \n",
      " 10  chd        462 non-null    int64  \n",
      "dtypes: float64(5), int64(5), object(1)\n",
      "memory usage: 39.8+ KB\n"
     ]
    }
   ],
   "source": [
    "chd_df.info()"
   ]
  },
  {
   "cell_type": "code",
   "execution_count": 4,
   "metadata": {},
   "outputs": [],
   "source": [
    "# Columns other than chd are the features to predict chd\n",
    "X_features = list(chd_df.columns)\n",
    "X_features.remove('chd')"
   ]
  },
  {
   "cell_type": "code",
   "execution_count": 5,
   "metadata": {},
   "outputs": [],
   "source": [
    "# Features are stored in X and response variable in Y\n",
    "X = chd_df[X_features]\n",
    "Y = chd_df.chd"
   ]
  },
  {
   "cell_type": "code",
   "execution_count": 6,
   "metadata": {},
   "outputs": [],
   "source": [
    "# Encoding 'famhist' variable \n",
    "encoded_X = pd.get_dummies(X,\n",
    "                           drop_first= True)"
   ]
  },
  {
   "cell_type": "code",
   "execution_count": null,
   "metadata": {},
   "outputs": [
    {
     "name": "stdout",
     "output_type": "stream",
     "text": [
      "<class 'pandas.core.frame.DataFrame'>\n",
      "RangeIndex: 462 entries, 0 to 461\n",
      "Data columns (total 10 columns):\n",
      " #   Column           Non-Null Count  Dtype  \n",
      "---  ------           --------------  -----  \n",
      " 0   ind              462 non-null    int64  \n",
      " 1   sbp              462 non-null    int64  \n",
      " 2   tobacco          462 non-null    float64\n",
      " 3   ldl              462 non-null    float64\n",
      " 4   adiposity        462 non-null    float64\n",
      " 5   typea            462 non-null    int64  \n",
      " 6   obesity          462 non-null    float64\n",
      " 7   alcohol          462 non-null    float64\n",
      " 8   age              462 non-null    int64  \n",
      " 9   famhist_Present  462 non-null    bool   \n",
      "dtypes: bool(1), float64(5), int64(4)\n",
      "memory usage: 33.1 KB\n"
     ]
    }
   ],
   "source": [
    "#Encoded features have 'bool' type data type which needs to be converted as 'int64'data type.\n",
    "encoded_X.info()"
   ]
  },
  {
   "cell_type": "code",
   "execution_count": 8,
   "metadata": {},
   "outputs": [
    {
     "name": "stderr",
     "output_type": "stream",
     "text": [
      "C:\\Users\\Pranav\\AppData\\Local\\Temp\\ipykernel_14760\\2465002531.py:2: FutureWarning: Setting an item of incompatible dtype is deprecated and will raise in a future error of pandas. Value '0      1\n",
      "1      0\n",
      "2      1\n",
      "3      1\n",
      "4      1\n",
      "      ..\n",
      "457    0\n",
      "458    0\n",
      "459    0\n",
      "460    0\n",
      "461    1\n",
      "Name: famhist_Present, Length: 462, dtype: int64' has dtype incompatible with bool, please explicitly cast to a compatible dtype first.\n",
      "  encoded_X.iloc[ : , 9 : ] = encoded_X.iloc[ : , 9 : ].astype('int64')\n"
     ]
    }
   ],
   "source": [
    "# Changing data type from 'bool to 'int64'\n",
    "encoded_X.iloc[ : , 9 : ] = encoded_X.iloc[ : , 9 : ].astype('int64')"
   ]
  },
  {
   "cell_type": "code",
   "execution_count": 9,
   "metadata": {},
   "outputs": [],
   "source": [
    "from sklearn.model_selection import train_test_split"
   ]
  },
  {
   "cell_type": "code",
   "execution_count": 10,
   "metadata": {},
   "outputs": [],
   "source": [
    "#splitting dataset into training data and test data\n",
    "X_train, X_test, y_train, y_test = train_test_split(\n",
    "    encoded_X,\n",
    "    Y,\n",
    "    train_size=0.7,\n",
    "    random_state=100\n",
    ")"
   ]
  },
  {
   "cell_type": "code",
   "execution_count": null,
   "metadata": {},
   "outputs": [
    {
     "name": "stdout",
     "output_type": "stream",
     "text": [
      "Optimization terminated successfully.\n",
      "         Current function value: 0.489635\n",
      "         Iterations 6\n"
     ]
    }
   ],
   "source": [
    "import statsmodels.api as sm\n",
    "\n",
    "#fitting the data into Logistic Regression Model\n",
    "logit_model_1 = sm.Logit(y_train,\n",
    "                         sm.add_constant(X_train)).fit()"
   ]
  },
  {
   "cell_type": "code",
   "execution_count": 12,
   "metadata": {},
   "outputs": [
    {
     "data": {
      "text/html": [
       "<table class=\"simpletable\">\n",
       "<tr>\n",
       "        <td>Model:</td>              <td>Logit</td>           <td>Method:</td>          <td>MLE</td>   \n",
       "</tr>\n",
       "<tr>\n",
       "  <td>Dependent Variable:</td>        <td>chd</td>       <td>Pseudo R-squared:</td>    <td>0.232</td>  \n",
       "</tr>\n",
       "<tr>\n",
       "         <td>Date:</td>        <td>2025-01-03 16:27</td>       <td>AIC:</td>         <td>338.3039</td> \n",
       "</tr>\n",
       "<tr>\n",
       "   <td>No. Observations:</td>         <td>323</td>             <td>BIC:</td>         <td>379.8581</td> \n",
       "</tr>\n",
       "<tr>\n",
       "       <td>Df Model:</td>             <td>10</td>         <td>Log-Likelihood:</td>    <td>-158.15</td> \n",
       "</tr>\n",
       "<tr>\n",
       "     <td>Df Residuals:</td>           <td>312</td>           <td>LL-Null:</td>        <td>-205.82</td> \n",
       "</tr>\n",
       "<tr>\n",
       "      <td>Converged:</td>           <td>1.0000</td>        <td>LLR p-value:</td>    <td>4.6365e-16</td>\n",
       "</tr>\n",
       "<tr>\n",
       "    <td>No. Iterations:</td>        <td>6.0000</td>           <td>Scale:</td>         <td>1.0000</td>  \n",
       "</tr>\n",
       "</table>\n",
       "<table class=\"simpletable\">\n",
       "<tr>\n",
       "         <td></td>          <th>Coef.</th>  <th>Std.Err.</th>    <th>z</th>     <th>P>|z|</th> <th>[0.025</th>  <th>0.975]</th> \n",
       "</tr>\n",
       "<tr>\n",
       "  <th>const</th>           <td>-6.1906</td>  <td>1.6325</td>  <td>-3.7921</td> <td>0.0001</td> <td>-9.3903</td> <td>-2.9909</td>\n",
       "</tr>\n",
       "<tr>\n",
       "  <th>ind</th>             <td>-0.0017</td>  <td>0.0011</td>  <td>-1.5325</td> <td>0.1254</td> <td>-0.0040</td> <td>0.0005</td> \n",
       "</tr>\n",
       "<tr>\n",
       "  <th>sbp</th>             <td>0.0054</td>   <td>0.0072</td>  <td>0.7513</td>  <td>0.4525</td> <td>-0.0087</td> <td>0.0196</td> \n",
       "</tr>\n",
       "<tr>\n",
       "  <th>tobacco</th>         <td>0.0611</td>   <td>0.0315</td>  <td>1.9391</td>  <td>0.0525</td> <td>-0.0007</td> <td>0.1229</td> \n",
       "</tr>\n",
       "<tr>\n",
       "  <th>ldl</th>             <td>0.1792</td>   <td>0.0693</td>  <td>2.5858</td>  <td>0.0097</td> <td>0.0434</td>  <td>0.3150</td> \n",
       "</tr>\n",
       "<tr>\n",
       "  <th>adiposity</th>       <td>0.0218</td>   <td>0.0346</td>  <td>0.6299</td>  <td>0.5288</td> <td>-0.0460</td> <td>0.0896</td> \n",
       "</tr>\n",
       "<tr>\n",
       "  <th>typea</th>           <td>0.0355</td>   <td>0.0150</td>  <td>2.3754</td>  <td>0.0175</td> <td>0.0062</td>  <td>0.0648</td> \n",
       "</tr>\n",
       "<tr>\n",
       "  <th>obesity</th>         <td>-0.0499</td>  <td>0.0506</td>  <td>-0.9866</td> <td>0.3238</td> <td>-0.1492</td> <td>0.0493</td> \n",
       "</tr>\n",
       "<tr>\n",
       "  <th>alcohol</th>         <td>0.0014</td>   <td>0.0051</td>  <td>0.2795</td>  <td>0.7799</td> <td>-0.0086</td> <td>0.0114</td> \n",
       "</tr>\n",
       "<tr>\n",
       "  <th>age</th>             <td>0.0495</td>   <td>0.0150</td>  <td>3.3035</td>  <td>0.0010</td> <td>0.0201</td>  <td>0.0788</td> \n",
       "</tr>\n",
       "<tr>\n",
       "  <th>famhist_Present</th> <td>1.2819</td>   <td>0.2829</td>  <td>4.5307</td>  <td>0.0000</td> <td>0.7274</td>  <td>1.8364</td> \n",
       "</tr>\n",
       "</table><br/>\n"
      ],
      "text/latex": [
       "\\begin{table}\n",
       "\\caption{Results: Logit}\n",
       "\\label{}\n",
       "\\begin{center}\n",
       "\\begin{tabular}{llll}\n",
       "\\hline\n",
       "Model:              & Logit            & Method:           & MLE         \\\\\n",
       "Dependent Variable: & chd              & Pseudo R-squared: & 0.232       \\\\\n",
       "Date:               & 2025-01-03 16:27 & AIC:              & 338.3039    \\\\\n",
       "No. Observations:   & 323              & BIC:              & 379.8581    \\\\\n",
       "Df Model:           & 10               & Log-Likelihood:   & -158.15     \\\\\n",
       "Df Residuals:       & 312              & LL-Null:          & -205.82     \\\\\n",
       "Converged:          & 1.0000           & LLR p-value:      & 4.6365e-16  \\\\\n",
       "No. Iterations:     & 6.0000           & Scale:            & 1.0000      \\\\\n",
       "\\hline\n",
       "\\end{tabular}\n",
       "\\end{center}\n",
       "\n",
       "\\begin{center}\n",
       "\\begin{tabular}{lrrrrrr}\n",
       "\\hline\n",
       "                 &   Coef. & Std.Err. &       z & P$> |$z$|$ &  [0.025 &  0.975]  \\\\\n",
       "\\hline\n",
       "const            & -6.1906 &   1.6325 & -3.7921 &      0.0001 & -9.3903 & -2.9909  \\\\\n",
       "ind              & -0.0017 &   0.0011 & -1.5325 &      0.1254 & -0.0040 &  0.0005  \\\\\n",
       "sbp              &  0.0054 &   0.0072 &  0.7513 &      0.4525 & -0.0087 &  0.0196  \\\\\n",
       "tobacco          &  0.0611 &   0.0315 &  1.9391 &      0.0525 & -0.0007 &  0.1229  \\\\\n",
       "ldl              &  0.1792 &   0.0693 &  2.5858 &      0.0097 &  0.0434 &  0.3150  \\\\\n",
       "adiposity        &  0.0218 &   0.0346 &  0.6299 &      0.5288 & -0.0460 &  0.0896  \\\\\n",
       "typea            &  0.0355 &   0.0150 &  2.3754 &      0.0175 &  0.0062 &  0.0648  \\\\\n",
       "obesity          & -0.0499 &   0.0506 & -0.9866 &      0.3238 & -0.1492 &  0.0493  \\\\\n",
       "alcohol          &  0.0014 &   0.0051 &  0.2795 &      0.7799 & -0.0086 &  0.0114  \\\\\n",
       "age              &  0.0495 &   0.0150 &  3.3035 &      0.0010 &  0.0201 &  0.0788  \\\\\n",
       "famhist\\_Present &  1.2819 &   0.2829 &  4.5307 &      0.0000 &  0.7274 &  1.8364  \\\\\n",
       "\\hline\n",
       "\\end{tabular}\n",
       "\\end{center}\n",
       "\\end{table}\n",
       "\\bigskip\n"
      ],
      "text/plain": [
       "<class 'statsmodels.iolib.summary2.Summary'>\n",
       "\"\"\"\n",
       "                         Results: Logit\n",
       "=================================================================\n",
       "Model:              Logit            Method:           MLE       \n",
       "Dependent Variable: chd              Pseudo R-squared: 0.232     \n",
       "Date:               2025-01-03 16:27 AIC:              338.3039  \n",
       "No. Observations:   323              BIC:              379.8581  \n",
       "Df Model:           10               Log-Likelihood:   -158.15   \n",
       "Df Residuals:       312              LL-Null:          -205.82   \n",
       "Converged:          1.0000           LLR p-value:      4.6365e-16\n",
       "No. Iterations:     6.0000           Scale:            1.0000    \n",
       "-----------------------------------------------------------------\n",
       "                   Coef.  Std.Err.    z    P>|z|   [0.025  0.975]\n",
       "-----------------------------------------------------------------\n",
       "const             -6.1906   1.6325 -3.7921 0.0001 -9.3903 -2.9909\n",
       "ind               -0.0017   0.0011 -1.5325 0.1254 -0.0040  0.0005\n",
       "sbp                0.0054   0.0072  0.7513 0.4525 -0.0087  0.0196\n",
       "tobacco            0.0611   0.0315  1.9391 0.0525 -0.0007  0.1229\n",
       "ldl                0.1792   0.0693  2.5858 0.0097  0.0434  0.3150\n",
       "adiposity          0.0218   0.0346  0.6299 0.5288 -0.0460  0.0896\n",
       "typea              0.0355   0.0150  2.3754 0.0175  0.0062  0.0648\n",
       "obesity           -0.0499   0.0506 -0.9866 0.3238 -0.1492  0.0493\n",
       "alcohol            0.0014   0.0051  0.2795 0.7799 -0.0086  0.0114\n",
       "age                0.0495   0.0150  3.3035 0.0010  0.0201  0.0788\n",
       "famhist_Present    1.2819   0.2829  4.5307 0.0000  0.7274  1.8364\n",
       "=================================================================\n",
       "\n",
       "\"\"\""
      ]
     },
     "execution_count": 12,
     "metadata": {},
     "output_type": "execute_result"
    }
   ],
   "source": [
    "logit_model_1.summary2()"
   ]
  },
  {
   "cell_type": "code",
   "execution_count": 13,
   "metadata": {},
   "outputs": [],
   "source": [
    "# get_significant vars function will filter out significant features having p-value less than 0.05\n",
    "def get_signficant_vars(lm) :\n",
    "    var_p_vals_df= pd.DataFrame(lm.pvalues,\n",
    "                              columns=['pvals'])\n",
    "    var_p_vals_df['vars'] = var_p_vals_df.index\n",
    "    \n",
    "    return list(var_p_vals_df[var_p_vals_df.pvals <= 0.05].vars)"
   ]
  },
  {
   "cell_type": "code",
   "execution_count": 14,
   "metadata": {},
   "outputs": [
    {
     "data": {
      "text/plain": [
       "['ldl', 'typea', 'age', 'famhist_Present']"
      ]
     },
     "execution_count": 14,
     "metadata": {},
     "output_type": "execute_result"
    }
   ],
   "source": [
    "significant_vars = get_signficant_vars(logit_model_1)\n",
    "significant_vars.remove('const')\n",
    "significant_vars"
   ]
  },
  {
   "cell_type": "code",
   "execution_count": 15,
   "metadata": {},
   "outputs": [
    {
     "name": "stdout",
     "output_type": "stream",
     "text": [
      "Optimization terminated successfully.\n",
      "         Current function value: 0.503055\n",
      "         Iterations 6\n"
     ]
    }
   ],
   "source": [
    "#fitting significant vars only in the model\n",
    "logit_model_2 = sm.Logit(y_train,\n",
    "                         sm.add_constant(X_train[significant_vars])).fit()"
   ]
  },
  {
   "cell_type": "code",
   "execution_count": 16,
   "metadata": {},
   "outputs": [
    {
     "data": {
      "text/html": [
       "<table class=\"simpletable\">\n",
       "<tr>\n",
       "        <td>Model:</td>              <td>Logit</td>           <td>Method:</td>          <td>MLE</td>   \n",
       "</tr>\n",
       "<tr>\n",
       "  <td>Dependent Variable:</td>        <td>chd</td>       <td>Pseudo R-squared:</td>    <td>0.211</td>  \n",
       "</tr>\n",
       "<tr>\n",
       "         <td>Date:</td>        <td>2025-01-03 16:27</td>       <td>AIC:</td>         <td>334.9733</td> \n",
       "</tr>\n",
       "<tr>\n",
       "   <td>No. Observations:</td>         <td>323</td>             <td>BIC:</td>         <td>353.8616</td> \n",
       "</tr>\n",
       "<tr>\n",
       "       <td>Df Model:</td>              <td>4</td>         <td>Log-Likelihood:</td>    <td>-162.49</td> \n",
       "</tr>\n",
       "<tr>\n",
       "     <td>Df Residuals:</td>           <td>318</td>           <td>LL-Null:</td>        <td>-205.82</td> \n",
       "</tr>\n",
       "<tr>\n",
       "      <td>Converged:</td>           <td>1.0000</td>        <td>LLR p-value:</td>    <td>6.6905e-18</td>\n",
       "</tr>\n",
       "<tr>\n",
       "    <td>No. Iterations:</td>        <td>6.0000</td>           <td>Scale:</td>         <td>1.0000</td>  \n",
       "</tr>\n",
       "</table>\n",
       "<table class=\"simpletable\">\n",
       "<tr>\n",
       "         <td></td>          <th>Coef.</th>  <th>Std.Err.</th>    <th>z</th>     <th>P>|z|</th> <th>[0.025</th>  <th>0.975]</th> \n",
       "</tr>\n",
       "<tr>\n",
       "  <th>const</th>           <td>-7.1331</td>  <td>1.1280</td>  <td>-6.3236</td> <td>0.0000</td> <td>-9.3440</td> <td>-4.9223</td>\n",
       "</tr>\n",
       "<tr>\n",
       "  <th>ldl</th>             <td>0.1722</td>   <td>0.0616</td>  <td>2.7970</td>  <td>0.0052</td> <td>0.0515</td>  <td>0.2929</td> \n",
       "</tr>\n",
       "<tr>\n",
       "  <th>typea</th>           <td>0.0407</td>   <td>0.0144</td>  <td>2.8169</td>  <td>0.0048</td> <td>0.0124</td>  <td>0.0690</td> \n",
       "</tr>\n",
       "<tr>\n",
       "  <th>age</th>             <td>0.0635</td>   <td>0.0119</td>  <td>5.3538</td>  <td>0.0000</td> <td>0.0403</td>  <td>0.0868</td> \n",
       "</tr>\n",
       "<tr>\n",
       "  <th>famhist_Present</th> <td>1.1886</td>   <td>0.2723</td>  <td>4.3648</td>  <td>0.0000</td> <td>0.6549</td>  <td>1.7223</td> \n",
       "</tr>\n",
       "</table><br/>\n"
      ],
      "text/latex": [
       "\\begin{table}\n",
       "\\caption{Results: Logit}\n",
       "\\label{}\n",
       "\\begin{center}\n",
       "\\begin{tabular}{llll}\n",
       "\\hline\n",
       "Model:              & Logit            & Method:           & MLE         \\\\\n",
       "Dependent Variable: & chd              & Pseudo R-squared: & 0.211       \\\\\n",
       "Date:               & 2025-01-03 16:27 & AIC:              & 334.9733    \\\\\n",
       "No. Observations:   & 323              & BIC:              & 353.8616    \\\\\n",
       "Df Model:           & 4                & Log-Likelihood:   & -162.49     \\\\\n",
       "Df Residuals:       & 318              & LL-Null:          & -205.82     \\\\\n",
       "Converged:          & 1.0000           & LLR p-value:      & 6.6905e-18  \\\\\n",
       "No. Iterations:     & 6.0000           & Scale:            & 1.0000      \\\\\n",
       "\\hline\n",
       "\\end{tabular}\n",
       "\\end{center}\n",
       "\n",
       "\\begin{center}\n",
       "\\begin{tabular}{lrrrrrr}\n",
       "\\hline\n",
       "                 &   Coef. & Std.Err. &       z & P$> |$z$|$ &  [0.025 &  0.975]  \\\\\n",
       "\\hline\n",
       "const            & -7.1331 &   1.1280 & -6.3236 &      0.0000 & -9.3440 & -4.9223  \\\\\n",
       "ldl              &  0.1722 &   0.0616 &  2.7970 &      0.0052 &  0.0515 &  0.2929  \\\\\n",
       "typea            &  0.0407 &   0.0144 &  2.8169 &      0.0048 &  0.0124 &  0.0690  \\\\\n",
       "age              &  0.0635 &   0.0119 &  5.3538 &      0.0000 &  0.0403 &  0.0868  \\\\\n",
       "famhist\\_Present &  1.1886 &   0.2723 &  4.3648 &      0.0000 &  0.6549 &  1.7223  \\\\\n",
       "\\hline\n",
       "\\end{tabular}\n",
       "\\end{center}\n",
       "\\end{table}\n",
       "\\bigskip\n"
      ],
      "text/plain": [
       "<class 'statsmodels.iolib.summary2.Summary'>\n",
       "\"\"\"\n",
       "                         Results: Logit\n",
       "=================================================================\n",
       "Model:              Logit            Method:           MLE       \n",
       "Dependent Variable: chd              Pseudo R-squared: 0.211     \n",
       "Date:               2025-01-03 16:27 AIC:              334.9733  \n",
       "No. Observations:   323              BIC:              353.8616  \n",
       "Df Model:           4                Log-Likelihood:   -162.49   \n",
       "Df Residuals:       318              LL-Null:          -205.82   \n",
       "Converged:          1.0000           LLR p-value:      6.6905e-18\n",
       "No. Iterations:     6.0000           Scale:            1.0000    \n",
       "-----------------------------------------------------------------\n",
       "                   Coef.  Std.Err.    z    P>|z|   [0.025  0.975]\n",
       "-----------------------------------------------------------------\n",
       "const             -7.1331   1.1280 -6.3236 0.0000 -9.3440 -4.9223\n",
       "ldl                0.1722   0.0616  2.7970 0.0052  0.0515  0.2929\n",
       "typea              0.0407   0.0144  2.8169 0.0048  0.0124  0.0690\n",
       "age                0.0635   0.0119  5.3538 0.0000  0.0403  0.0868\n",
       "famhist_Present    1.1886   0.2723  4.3648 0.0000  0.6549  1.7223\n",
       "=================================================================\n",
       "\n",
       "\"\"\""
      ]
     },
     "execution_count": 16,
     "metadata": {},
     "output_type": "execute_result"
    }
   ],
   "source": [
    "logit_model_2.summary2()"
   ]
  },
  {
   "cell_type": "code",
   "execution_count": 19,
   "metadata": {},
   "outputs": [
    {
     "data": {
      "text/html": [
       "<div>\n",
       "<style scoped>\n",
       "    .dataframe tbody tr th:only-of-type {\n",
       "        vertical-align: middle;\n",
       "    }\n",
       "\n",
       "    .dataframe tbody tr th {\n",
       "        vertical-align: top;\n",
       "    }\n",
       "\n",
       "    .dataframe thead th {\n",
       "        text-align: right;\n",
       "    }\n",
       "</style>\n",
       "<table border=\"1\" class=\"dataframe\">\n",
       "  <thead>\n",
       "    <tr style=\"text-align: right;\">\n",
       "      <th></th>\n",
       "      <th>actual</th>\n",
       "      <th>pred</th>\n",
       "    </tr>\n",
       "  </thead>\n",
       "  <tbody>\n",
       "    <tr>\n",
       "      <th>302</th>\n",
       "      <td>0</td>\n",
       "      <td>0.211247</td>\n",
       "    </tr>\n",
       "    <tr>\n",
       "      <th>424</th>\n",
       "      <td>1</td>\n",
       "      <td>0.108237</td>\n",
       "    </tr>\n",
       "    <tr>\n",
       "      <th>236</th>\n",
       "      <td>0</td>\n",
       "      <td>0.408498</td>\n",
       "    </tr>\n",
       "    <tr>\n",
       "      <th>272</th>\n",
       "      <td>0</td>\n",
       "      <td>0.168293</td>\n",
       "    </tr>\n",
       "    <tr>\n",
       "      <th>360</th>\n",
       "      <td>1</td>\n",
       "      <td>0.792271</td>\n",
       "    </tr>\n",
       "    <tr>\n",
       "      <th>...</th>\n",
       "      <td>...</td>\n",
       "      <td>...</td>\n",
       "    </tr>\n",
       "    <tr>\n",
       "      <th>381</th>\n",
       "      <td>0</td>\n",
       "      <td>0.383046</td>\n",
       "    </tr>\n",
       "    <tr>\n",
       "      <th>178</th>\n",
       "      <td>0</td>\n",
       "      <td>0.175247</td>\n",
       "    </tr>\n",
       "    <tr>\n",
       "      <th>45</th>\n",
       "      <td>0</td>\n",
       "      <td>0.270510</td>\n",
       "    </tr>\n",
       "    <tr>\n",
       "      <th>150</th>\n",
       "      <td>0</td>\n",
       "      <td>0.361374</td>\n",
       "    </tr>\n",
       "    <tr>\n",
       "      <th>255</th>\n",
       "      <td>1</td>\n",
       "      <td>0.616653</td>\n",
       "    </tr>\n",
       "  </tbody>\n",
       "</table>\n",
       "<p>139 rows × 2 columns</p>\n",
       "</div>"
      ],
      "text/plain": [
       "     actual      pred\n",
       "302       0  0.211247\n",
       "424       1  0.108237\n",
       "236       0  0.408498\n",
       "272       0  0.168293\n",
       "360       1  0.792271\n",
       "..      ...       ...\n",
       "381       0  0.383046\n",
       "178       0  0.175247\n",
       "45        0  0.270510\n",
       "150       0  0.361374\n",
       "255       1  0.616653\n",
       "\n",
       "[139 rows x 2 columns]"
      ]
     },
     "execution_count": 19,
     "metadata": {},
     "output_type": "execute_result"
    }
   ],
   "source": [
    "y_pred_df = pd.DataFrame()\n",
    "y_pred_df['actual'] = y_test\n",
    "y_pred_df['pred'] = logit_model_2.predict(sm.add_constant(X_test[significant_vars]))\n",
    "y_pred_df"
   ]
  },
  {
   "cell_type": "code",
   "execution_count": 108,
   "metadata": {},
   "outputs": [],
   "source": [
    "import seaborn as sns"
   ]
  },
  {
   "cell_type": "code",
   "execution_count": 104,
   "metadata": {},
   "outputs": [],
   "source": [
    "#this function will find the optimal cutoff probability to predict the cvd using Youden's Index\n",
    "def find_optimal_cutoff_probability (actual, pred) :\n",
    "    idx = 0\n",
    "    cut_off_df = pd.DataFrame(columns=['cut_off_prob', 'diff_tpr_fpr'])\n",
    "    \n",
    "    for cp in range(10, 51):\n",
    "        cp_pred = pred.map(\n",
    "            lambda x : 1 if (x > (cp / 100)) else 0\n",
    "        )\n",
    "\n",
    "        conf_matr = metrics.confusion_matrix(actual, cp_pred)\n",
    "\n",
    "        tp = conf_matr[0][0]\n",
    "        fp = conf_matr[1][0]\n",
    "        fn = conf_matr[0][1]\n",
    "        tn = conf_matr[1][1]\n",
    "\n",
    "        tpr = tp / (tp + fn)\n",
    "        fpr = fp / (fp + tn)\n",
    "\n",
    "        cut_off_df.loc[idx] = [cp / 100, tpr - fpr]\n",
    "\n",
    "        idx+=1\n",
    "        cp+=1\n",
    "\n",
    "    cut_off_df = cut_off_df.sort_values('diff_tpr_fpr', ascending=False)\n",
    "\n",
    "    return cut_off_df.iloc[0,0]\n"
   ]
  },
  {
   "cell_type": "code",
   "execution_count": 107,
   "metadata": {},
   "outputs": [
    {
     "data": {
      "text/plain": [
       "0.39"
      ]
     },
     "execution_count": 107,
     "metadata": {},
     "output_type": "execute_result"
    }
   ],
   "source": [
    "optimal_cutoff_probability = find_optimal_cutoff_probability(y_pred_df.actual, y_pred_df.pred)\n",
    "optimal_cutoff_probability\n"
   ]
  },
  {
   "cell_type": "code",
   "execution_count": 109,
   "metadata": {},
   "outputs": [],
   "source": [
    "y_pred_df['optimal_pred'] = y_pred_df.pred.map(\n",
    "        lambda x : 1 if x > optimal_cutoff_probability else 0\n",
    ")"
   ]
  },
  {
   "cell_type": "code",
   "execution_count": 137,
   "metadata": {},
   "outputs": [],
   "source": [
    "import matplotlib.pyplot as plt\n",
    "\n",
    "def get_cm(actual, optimal_pred):\n",
    "\n",
    "    conf_matr_cutoff_prob = metrics.confusion_matrix(actual,\n",
    "                                                    optimal_pred,\n",
    "                                                    labels=[1, 0])\n",
    "\n",
    "    plt.figure(figsize= (6, 4))\n",
    "    sns.heatmap(conf_matr_cutoff_prob, annot= True, fmt='.2f',\n",
    "                xticklabels= ['chd_positive', 'chd_negative'],\n",
    "                yticklabels= ['chd_positive', 'chd_negative'])\n",
    "    plt.ylabel('True Label')\n",
    "    plt.xlabel('Predicted Label')"
   ]
  },
  {
   "cell_type": "code",
   "execution_count": 138,
   "metadata": {},
   "outputs": [
    {
     "data": {
      "image/png": "[encoded data removed]",
      "text/plain": [
       "<Figure size 600x400 with 2 Axes>"
      ]
     },
     "metadata": {},
     "output_type": "display_data"
    }
   ],
   "source": [
    "get_cm(y_pred_df.actual, y_pred_df.optimal_pred)"
   ]
  },
  {
   "cell_type": "code",
   "execution_count": 145,
   "metadata": {},
   "outputs": [
    {
     "name": "stdout",
     "output_type": "stream",
     "text": [
      "              precision    recall  f1-score   support\n",
      "\n",
      "           0       0.77      0.75      0.76        87\n",
      "           1       0.60      0.63      0.62        52\n",
      "\n",
      "    accuracy                           0.71       139\n",
      "   macro avg       0.69      0.69      0.69       139\n",
      "weighted avg       0.71      0.71      0.71       139\n",
      "\n"
     ]
    }
   ],
   "source": [
    "classification_report_1 = metrics.classification_report(y_pred_df.actual,\n",
    "                                                      y_pred_df.optimal_pred)\n",
    "print(classification_report_1)"
   ]
  },
  {
   "cell_type": "code",
   "execution_count": 135,
   "metadata": {},
   "outputs": [],
   "source": [
    "#this function will find the optimal cutoff probability to predict the cvd using cost based approach\n",
    "\n",
    "def get_optimal_cost_cutoff(actual, pred, cost_FN, cost_FP):\n",
    "    def get_total_cost(actual, pred, cost_FN, cost_FP) :\n",
    "        cm = metrics.confusion_matrix(actual, pred, labels=[1, 0])\n",
    "\n",
    "        return cost_FP * cm[1][0] + cost_FN * cm[0][1]\n",
    "    idx = 0\n",
    "    cost_df = pd.DataFrame(columns=['cut_off_prob', 'cost'])\n",
    "\n",
    "    for cp in range(10, 51):\n",
    "        cost_df.loc[idx] = [(cp / 100), get_total_cost(actual, pred.map(\n",
    "            lambda x : 1 if x > (cp / 100) else 0\n",
    "        ), cost_FN, cost_FP)]\n",
    "\n",
    "        idx+=1\n",
    "        cp+=1\n",
    "    \n",
    "\n",
    "    cost_df = cost_df.sort_values('cost')\n",
    "\n",
    "    return cost_df.iloc[0,0]"
   ]
  },
  {
   "cell_type": "code",
   "execution_count": 139,
   "metadata": {},
   "outputs": [
    {
     "data": {
      "text/plain": [
       "0.1"
      ]
     },
     "execution_count": 139,
     "metadata": {},
     "output_type": "execute_result"
    }
   ],
   "source": [
    "optimal_cost_cutoff_probability = get_optimal_cost_cutoff(y_pred_df.actual, y_pred_df.pred, 5, 1)\n",
    "optimal_cost_cutoff_probability"
   ]
  },
  {
   "cell_type": "code",
   "execution_count": 140,
   "metadata": {},
   "outputs": [
    {
     "data": {
      "image/png": "[encoded data removed]",
      "text/plain": [
       "<Figure size 600x400 with 2 Axes>"
      ]
     },
     "metadata": {},
     "output_type": "display_data"
    }
   ],
   "source": [
    "y_pred_df['optimal_cost_pred'] = y_pred_df.pred.map(\n",
    "    lambda x : 1 if x > optimal_cost_cutoff_probability else 0\n",
    ")\n",
    "\n",
    "get_cm(y_pred_df.actual, y_pred_df.optimal_cost_pred)"
   ]
  },
  {
   "cell_type": "code",
   "execution_count": 146,
   "metadata": {},
   "outputs": [
    {
     "name": "stdout",
     "output_type": "stream",
     "text": [
      "              precision    recall  f1-score   support\n",
      "\n",
      "           0       0.88      0.25      0.39        87\n",
      "           1       0.43      0.94      0.59        52\n",
      "\n",
      "    accuracy                           0.51       139\n",
      "   macro avg       0.65      0.60      0.49       139\n",
      "weighted avg       0.71      0.51      0.47       139\n",
      "\n"
     ]
    }
   ],
   "source": [
    "classification_report_2 = metrics.classification_report(y_pred_df.actual,\n",
    "                                                      y_pred_df.optimal_cost_pred)\n",
    "print(classification_report_2)"
   ]
  },
  {
   "cell_type": "code",
   "execution_count": 149,
   "metadata": {},
   "outputs": [],
   "source": [
    "# building a decision tree classifier model to predict the probability of chd\n",
    "\n",
    "from sklearn.tree import DecisionTreeClassifier\n",
    "from sklearn.model_selection import GridSearchCV"
   ]
  },
  {
   "cell_type": "code",
   "execution_count": 171,
   "metadata": {},
   "outputs": [
    {
     "name": "stderr",
     "output_type": "stream",
     "text": [
      "c:\\Python\\Python312\\Lib\\site-packages\\sklearn\\model_selection\\_validation.py:540: FitFailedWarning: \n",
      "80 fits failed out of a total of 160.\n",
      "The score on these train-test partitions for these parameters will be set to nan.\n",
      "If these failures are not expected, you can try to debug them by setting error_score='raise'.\n",
      "\n",
      "Below are more details about the failures:\n",
      "--------------------------------------------------------------------------------\n",
      "80 fits failed with the following error:\n",
      "Traceback (most recent call last):\n",
      "  File \"c:\\Python\\Python312\\Lib\\site-packages\\sklearn\\model_selection\\_validation.py\", line 888, in _fit_and_score\n",
      "    estimator.fit(X_train, y_train, **fit_params)\n",
      "  File \"c:\\Python\\Python312\\Lib\\site-packages\\sklearn\\base.py\", line 1466, in wrapper\n",
      "    estimator._validate_params()\n",
      "  File \"c:\\Python\\Python312\\Lib\\site-packages\\sklearn\\base.py\", line 666, in _validate_params\n",
      "    validate_parameter_constraints(\n",
      "  File \"c:\\Python\\Python312\\Lib\\site-packages\\sklearn\\utils\\_param_validation.py\", line 95, in validate_parameter_constraints\n",
      "    raise InvalidParameterError(\n",
      "sklearn.utils._param_validation.InvalidParameterError: The 'criterion' parameter of DecisionTreeClassifier must be a str among {'entropy', 'log_loss', 'gini'}. Got 'emtropy' instead.\n",
      "\n",
      "  warnings.warn(some_fits_failed_message, FitFailedWarning)\n",
      "c:\\Python\\Python312\\Lib\\site-packages\\sklearn\\model_selection\\_search.py:1102: UserWarning: One or more of the test scores are non-finite: [0.6663538  0.68546143 0.68923062 0.68548013 0.66186246 0.64834219\n",
      " 0.6220307  0.6275669         nan        nan        nan        nan\n",
      "        nan        nan        nan        nan]\n",
      "  warnings.warn(\n"
     ]
    },
    {
     "data": {
      "text/html": [
       "<style>#sk-container-id-4 {\n",
       "  /* Definition of color scheme common for light and dark mode */\n",
       "  --sklearn-color-text: black;\n",
       "  --sklearn-color-line: gray;\n",
       "  /* Definition of color scheme for unfitted estimators */\n",
       "  --sklearn-color-unfitted-level-0: #fff5e6;\n",
       "  --sklearn-color-unfitted-level-1: #f6e4d2;\n",
       "  --sklearn-color-unfitted-level-2: #ffe0b3;\n",
       "  --sklearn-color-unfitted-level-3: chocolate;\n",
       "  /* Definition of color scheme for fitted estimators */\n",
       "  --sklearn-color-fitted-level-0: #f0f8ff;\n",
       "  --sklearn-color-fitted-level-1: #d4ebff;\n",
       "  --sklearn-color-fitted-level-2: #b3dbfd;\n",
       "  --sklearn-color-fitted-level-3: cornflowerblue;\n",
       "\n",
       "  /* Specific color for light theme */\n",
       "  --sklearn-color-text-on-default-background: var(--sg-text-color, var(--theme-code-foreground, var(--jp-content-font-color1, black)));\n",
       "  --sklearn-color-background: var(--sg-background-color, var(--theme-background, var(--jp-layout-color0, white)));\n",
       "  --sklearn-color-border-box: var(--sg-text-color, var(--theme-code-foreground, var(--jp-content-font-color1, black)));\n",
       "  --sklearn-color-icon: #696969;\n",
       "\n",
       "  @media (prefers-color-scheme: dark) {\n",
       "    /* Redefinition of color scheme for dark theme */\n",
       "    --sklearn-color-text-on-default-background: var(--sg-text-color, var(--theme-code-foreground, var(--jp-content-font-color1, white)));\n",
       "    --sklearn-color-background: var(--sg-background-color, var(--theme-background, var(--jp-layout-color0, #111)));\n",
       "    --sklearn-color-border-box: var(--sg-text-color, var(--theme-code-foreground, var(--jp-content-font-color1, white)));\n",
       "    --sklearn-color-icon: #878787;\n",
       "  }\n",
       "}\n",
       "\n",
       "#sk-container-id-4 {\n",
       "  color: var(--sklearn-color-text);\n",
       "}\n",
       "\n",
       "#sk-container-id-4 pre {\n",
       "  padding: 0;\n",
       "}\n",
       "\n",
       "#sk-container-id-4 input.sk-hidden--visually {\n",
       "  border: 0;\n",
       "  clip: rect(1px 1px 1px 1px);\n",
       "  clip: rect(1px, 1px, 1px, 1px);\n",
       "  height: 1px;\n",
       "  margin: -1px;\n",
       "  overflow: hidden;\n",
       "  padding: 0;\n",
       "  position: absolute;\n",
       "  width: 1px;\n",
       "}\n",
       "\n",
       "#sk-container-id-4 div.sk-dashed-wrapped {\n",
       "  border: 1px dashed var(--sklearn-color-line);\n",
       "  margin: 0 0.4em 0.5em 0.4em;\n",
       "  box-sizing: border-box;\n",
       "  padding-bottom: 0.4em;\n",
       "  background-color: var(--sklearn-color-background);\n",
       "}\n",
       "\n",
       "#sk-container-id-4 div.sk-container {\n",
       "  /* jupyter's `normalize.less` sets `[hidden] { display: none; }`\n",
       "     but bootstrap.min.css set `[hidden] { display: none !important; }`\n",
       "     so we also need the `!important` here to be able to override the\n",
       "     default hidden behavior on the sphinx rendered scikit-learn.org.\n",
       "     See: https://github.com/scikit-learn/scikit-learn/issues/21755 */\n",
       "  display: inline-block !important;\n",
       "  position: relative;\n",
       "}\n",
       "\n",
       "#sk-container-id-4 div.sk-text-repr-fallback {\n",
       "  display: none;\n",
       "}\n",
       "\n",
       "div.sk-parallel-item,\n",
       "div.sk-serial,\n",
       "div.sk-item {\n",
       "  /* draw centered vertical line to link estimators */\n",
       "  background-image: linear-gradient(var(--sklearn-color-text-on-default-background), var(--sklearn-color-text-on-default-background));\n",
       "  background-size: 2px 100%;\n",
       "  background-repeat: no-repeat;\n",
       "  background-position: center center;\n",
       "}\n",
       "\n",
       "/* Parallel-specific style estimator block */\n",
       "\n",
       "#sk-container-id-4 div.sk-parallel-item::after {\n",
       "  content: \"\";\n",
       "  width: 100%;\n",
       "  border-bottom: 2px solid var(--sklearn-color-text-on-default-background);\n",
       "  flex-grow: 1;\n",
       "}\n",
       "\n",
       "#sk-container-id-4 div.sk-parallel {\n",
       "  display: flex;\n",
       "  align-items: stretch;\n",
       "  justify-content: center;\n",
       "  background-color: var(--sklearn-color-background);\n",
       "  position: relative;\n",
       "}\n",
       "\n",
       "#sk-container-id-4 div.sk-parallel-item {\n",
       "  display: flex;\n",
       "  flex-direction: column;\n",
       "}\n",
       "\n",
       "#sk-container-id-4 div.sk-parallel-item:first-child::after {\n",
       "  align-self: flex-end;\n",
       "  width: 50%;\n",
       "}\n",
       "\n",
       "#sk-container-id-4 div.sk-parallel-item:last-child::after {\n",
       "  align-self: flex-start;\n",
       "  width: 50%;\n",
       "}\n",
       "\n",
       "#sk-container-id-4 div.sk-parallel-item:only-child::after {\n",
       "  width: 0;\n",
       "}\n",
       "\n",
       "/* Serial-specific style estimator block */\n",
       "\n",
       "#sk-container-id-4 div.sk-serial {\n",
       "  display: flex;\n",
       "  flex-direction: column;\n",
       "  align-items: center;\n",
       "  background-color: var(--sklearn-color-background);\n",
       "  padding-right: 1em;\n",
       "  padding-left: 1em;\n",
       "}\n",
       "\n",
       "\n",
       "/* Toggleable style: style used for estimator/Pipeline/ColumnTransformer box that is\n",
       "clickable and can be expanded/collapsed.\n",
       "- Pipeline and ColumnTransformer use this feature and define the default style\n",
       "- Estimators will overwrite some part of the style using the `sk-estimator` class\n",
       "*/\n",
       "\n",
       "/* Pipeline and ColumnTransformer style (default) */\n",
       "\n",
       "#sk-container-id-4 div.sk-toggleable {\n",
       "  /* Default theme specific background. It is overwritten whether we have a\n",
       "  specific estimator or a Pipeline/ColumnTransformer */\n",
       "  background-color: var(--sklearn-color-background);\n",
       "}\n",
       "\n",
       "/* Toggleable label */\n",
       "#sk-container-id-4 label.sk-toggleable__label {\n",
       "  cursor: pointer;\n",
       "  display: block;\n",
       "  width: 100%;\n",
       "  margin-bottom: 0;\n",
       "  padding: 0.5em;\n",
       "  box-sizing: border-box;\n",
       "  text-align: center;\n",
       "}\n",
       "\n",
       "#sk-container-id-4 label.sk-toggleable__label-arrow:before {\n",
       "  /* Arrow on the left of the label */\n",
       "  content: \"▸\";\n",
       "  float: left;\n",
       "  margin-right: 0.25em;\n",
       "  color: var(--sklearn-color-icon);\n",
       "}\n",
       "\n",
       "#sk-container-id-4 label.sk-toggleable__label-arrow:hover:before {\n",
       "  color: var(--sklearn-color-text);\n",
       "}\n",
       "\n",
       "/* Toggleable content - dropdown */\n",
       "\n",
       "#sk-container-id-4 div.sk-toggleable__content {\n",
       "  max-height: 0;\n",
       "  max-width: 0;\n",
       "  overflow: hidden;\n",
       "  text-align: left;\n",
       "  /* unfitted */\n",
       "  background-color: var(--sklearn-color-unfitted-level-0);\n",
       "}\n",
       "\n",
       "#sk-container-id-4 div.sk-toggleable__content.fitted {\n",
       "  /* fitted */\n",
       "  background-color: var(--sklearn-color-fitted-level-0);\n",
       "}\n",
       "\n",
       "#sk-container-id-4 div.sk-toggleable__content pre {\n",
       "  margin: 0.2em;\n",
       "  border-radius: 0.25em;\n",
       "  color: var(--sklearn-color-text);\n",
       "  /* unfitted */\n",
       "  background-color: var(--sklearn-color-unfitted-level-0);\n",
       "}\n",
       "\n",
       "#sk-container-id-4 div.sk-toggleable__content.fitted pre {\n",
       "  /* unfitted */\n",
       "  background-color: var(--sklearn-color-fitted-level-0);\n",
       "}\n",
       "\n",
       "#sk-container-id-4 input.sk-toggleable__control:checked~div.sk-toggleable__content {\n",
       "  /* Expand drop-down */\n",
       "  max-height: 200px;\n",
       "  max-width: 100%;\n",
       "  overflow: auto;\n",
       "}\n",
       "\n",
       "#sk-container-id-4 input.sk-toggleable__control:checked~label.sk-toggleable__label-arrow:before {\n",
       "  content: \"▾\";\n",
       "}\n",
       "\n",
       "/* Pipeline/ColumnTransformer-specific style */\n",
       "\n",
       "#sk-container-id-4 div.sk-label input.sk-toggleable__control:checked~label.sk-toggleable__label {\n",
       "  color: var(--sklearn-color-text);\n",
       "  background-color: var(--sklearn-color-unfitted-level-2);\n",
       "}\n",
       "\n",
       "#sk-container-id-4 div.sk-label.fitted input.sk-toggleable__control:checked~label.sk-toggleable__label {\n",
       "  background-color: var(--sklearn-color-fitted-level-2);\n",
       "}\n",
       "\n",
       "/* Estimator-specific style */\n",
       "\n",
       "/* Colorize estimator box */\n",
       "#sk-container-id-4 div.sk-estimator input.sk-toggleable__control:checked~label.sk-toggleable__label {\n",
       "  /* unfitted */\n",
       "  background-color: var(--sklearn-color-unfitted-level-2);\n",
       "}\n",
       "\n",
       "#sk-container-id-4 div.sk-estimator.fitted input.sk-toggleable__control:checked~label.sk-toggleable__label {\n",
       "  /* fitted */\n",
       "  background-color: var(--sklearn-color-fitted-level-2);\n",
       "}\n",
       "\n",
       "#sk-container-id-4 div.sk-label label.sk-toggleable__label,\n",
       "#sk-container-id-4 div.sk-label label {\n",
       "  /* The background is the default theme color */\n",
       "  color: var(--sklearn-color-text-on-default-background);\n",
       "}\n",
       "\n",
       "/* On hover, darken the color of the background */\n",
       "#sk-container-id-4 div.sk-label:hover label.sk-toggleable__label {\n",
       "  color: var(--sklearn-color-text);\n",
       "  background-color: var(--sklearn-color-unfitted-level-2);\n",
       "}\n",
       "\n",
       "/* Label box, darken color on hover, fitted */\n",
       "#sk-container-id-4 div.sk-label.fitted:hover label.sk-toggleable__label.fitted {\n",
       "  color: var(--sklearn-color-text);\n",
       "  background-color: var(--sklearn-color-fitted-level-2);\n",
       "}\n",
       "\n",
       "/* Estimator label */\n",
       "\n",
       "#sk-container-id-4 div.sk-label label {\n",
       "  font-family: monospace;\n",
       "  font-weight: bold;\n",
       "  display: inline-block;\n",
       "  line-height: 1.2em;\n",
       "}\n",
       "\n",
       "#sk-container-id-4 div.sk-label-container {\n",
       "  text-align: center;\n",
       "}\n",
       "\n",
       "/* Estimator-specific */\n",
       "#sk-container-id-4 div.sk-estimator {\n",
       "  font-family: monospace;\n",
       "  border: 1px dotted var(--sklearn-color-border-box);\n",
       "  border-radius: 0.25em;\n",
       "  box-sizing: border-box;\n",
       "  margin-bottom: 0.5em;\n",
       "  /* unfitted */\n",
       "  background-color: var(--sklearn-color-unfitted-level-0);\n",
       "}\n",
       "\n",
       "#sk-container-id-4 div.sk-estimator.fitted {\n",
       "  /* fitted */\n",
       "  background-color: var(--sklearn-color-fitted-level-0);\n",
       "}\n",
       "\n",
       "/* on hover */\n",
       "#sk-container-id-4 div.sk-estimator:hover {\n",
       "  /* unfitted */\n",
       "  background-color: var(--sklearn-color-unfitted-level-2);\n",
       "}\n",
       "\n",
       "#sk-container-id-4 div.sk-estimator.fitted:hover {\n",
       "  /* fitted */\n",
       "  background-color: var(--sklearn-color-fitted-level-2);\n",
       "}\n",
       "\n",
       "/* Specification for estimator info (e.g. \"i\" and \"?\") */\n",
       "\n",
       "/* Common style for \"i\" and \"?\" */\n",
       "\n",
       ".sk-estimator-doc-link,\n",
       "a:link.sk-estimator-doc-link,\n",
       "a:visited.sk-estimator-doc-link {\n",
       "  float: right;\n",
       "  font-size: smaller;\n",
       "  line-height: 1em;\n",
       "  font-family: monospace;\n",
       "  background-color: var(--sklearn-color-background);\n",
       "  border-radius: 1em;\n",
       "  height: 1em;\n",
       "  width: 1em;\n",
       "  text-decoration: none !important;\n",
       "  margin-left: 1ex;\n",
       "  /* unfitted */\n",
       "  border: var(--sklearn-color-unfitted-level-1) 1pt solid;\n",
       "  color: var(--sklearn-color-unfitted-level-1);\n",
       "}\n",
       "\n",
       ".sk-estimator-doc-link.fitted,\n",
       "a:link.sk-estimator-doc-link.fitted,\n",
       "a:visited.sk-estimator-doc-link.fitted {\n",
       "  /* fitted */\n",
       "  border: var(--sklearn-color-fitted-level-1) 1pt solid;\n",
       "  color: var(--sklearn-color-fitted-level-1);\n",
       "}\n",
       "\n",
       "/* On hover */\n",
       "div.sk-estimator:hover .sk-estimator-doc-link:hover,\n",
       ".sk-estimator-doc-link:hover,\n",
       "div.sk-label-container:hover .sk-estimator-doc-link:hover,\n",
       ".sk-estimator-doc-link:hover {\n",
       "  /* unfitted */\n",
       "  background-color: var(--sklearn-color-unfitted-level-3);\n",
       "  color: var(--sklearn-color-background);\n",
       "  text-decoration: none;\n",
       "}\n",
       "\n",
       "div.sk-estimator.fitted:hover .sk-estimator-doc-link.fitted:hover,\n",
       ".sk-estimator-doc-link.fitted:hover,\n",
       "div.sk-label-container:hover .sk-estimator-doc-link.fitted:hover,\n",
       ".sk-estimator-doc-link.fitted:hover {\n",
       "  /* fitted */\n",
       "  background-color: var(--sklearn-color-fitted-level-3);\n",
       "  color: var(--sklearn-color-background);\n",
       "  text-decoration: none;\n",
       "}\n",
       "\n",
       "/* Span, style for the box shown on hovering the info icon */\n",
       ".sk-estimator-doc-link span {\n",
       "  display: none;\n",
       "  z-index: 9999;\n",
       "  position: relative;\n",
       "  font-weight: normal;\n",
       "  right: .2ex;\n",
       "  padding: .5ex;\n",
       "  margin: .5ex;\n",
       "  width: min-content;\n",
       "  min-width: 20ex;\n",
       "  max-width: 50ex;\n",
       "  color: var(--sklearn-color-text);\n",
       "  box-shadow: 2pt 2pt 4pt #999;\n",
       "  /* unfitted */\n",
       "  background: var(--sklearn-color-unfitted-level-0);\n",
       "  border: .5pt solid var(--sklearn-color-unfitted-level-3);\n",
       "}\n",
       "\n",
       ".sk-estimator-doc-link.fitted span {\n",
       "  /* fitted */\n",
       "  background: var(--sklearn-color-fitted-level-0);\n",
       "  border: var(--sklearn-color-fitted-level-3);\n",
       "}\n",
       "\n",
       ".sk-estimator-doc-link:hover span {\n",
       "  display: block;\n",
       "}\n",
       "\n",
       "/* \"?\"-specific style due to the `<a>` HTML tag */\n",
       "\n",
       "#sk-container-id-4 a.estimator_doc_link {\n",
       "  float: right;\n",
       "  font-size: 1rem;\n",
       "  line-height: 1em;\n",
       "  font-family: monospace;\n",
       "  background-color: var(--sklearn-color-background);\n",
       "  border-radius: 1rem;\n",
       "  height: 1rem;\n",
       "  width: 1rem;\n",
       "  text-decoration: none;\n",
       "  /* unfitted */\n",
       "  color: var(--sklearn-color-unfitted-level-1);\n",
       "  border: var(--sklearn-color-unfitted-level-1) 1pt solid;\n",
       "}\n",
       "\n",
       "#sk-container-id-4 a.estimator_doc_link.fitted {\n",
       "  /* fitted */\n",
       "  border: var(--sklearn-color-fitted-level-1) 1pt solid;\n",
       "  color: var(--sklearn-color-fitted-level-1);\n",
       "}\n",
       "\n",
       "/* On hover */\n",
       "#sk-container-id-4 a.estimator_doc_link:hover {\n",
       "  /* unfitted */\n",
       "  background-color: var(--sklearn-color-unfitted-level-3);\n",
       "  color: var(--sklearn-color-background);\n",
       "  text-decoration: none;\n",
       "}\n",
       "\n",
       "#sk-container-id-4 a.estimator_doc_link.fitted:hover {\n",
       "  /* fitted */\n",
       "  background-color: var(--sklearn-color-fitted-level-3);\n",
       "}\n",
       "</style><div id=\"sk-container-id-4\" class=\"sk-top-container\"><div class=\"sk-text-repr-fallback\"><pre>GridSearchCV(cv=10, estimator=DecisionTreeClassifier(),\n",
       "             param_grid=[{&#x27;criterion&#x27;: [&#x27;gini&#x27;, &#x27;emtropy&#x27;],\n",
       "                          &#x27;max_depth&#x27;: range(2, 10)}],\n",
       "             scoring=&#x27;roc_auc&#x27;)</pre><b>In a Jupyter environment, please rerun this cell to show the HTML representation or trust the notebook. <br />On GitHub, the HTML representation is unable to render, please try loading this page with nbviewer.org.</b></div><div class=\"sk-container\" hidden><div class=\"sk-item sk-dashed-wrapped\"><div class=\"sk-label-container\"><div class=\"sk-label fitted sk-toggleable\"><input class=\"sk-toggleable__control sk-hidden--visually\" id=\"sk-estimator-id-10\" type=\"checkbox\" ><label for=\"sk-estimator-id-10\" class=\"sk-toggleable__label fitted sk-toggleable__label-arrow fitted\">&nbsp;&nbsp;GridSearchCV<a class=\"sk-estimator-doc-link fitted\" rel=\"noreferrer\" target=\"_blank\" href=\"https://scikit-learn.org/1.5/modules/generated/sklearn.model_selection.GridSearchCV.html\">?<span>Documentation for GridSearchCV</span></a><span class=\"sk-estimator-doc-link fitted\">i<span>Fitted</span></span></label><div class=\"sk-toggleable__content fitted\"><pre>GridSearchCV(cv=10, estimator=DecisionTreeClassifier(),\n",
       "             param_grid=[{&#x27;criterion&#x27;: [&#x27;gini&#x27;, &#x27;emtropy&#x27;],\n",
       "                          &#x27;max_depth&#x27;: range(2, 10)}],\n",
       "             scoring=&#x27;roc_auc&#x27;)</pre></div> </div></div><div class=\"sk-parallel\"><div class=\"sk-parallel-item\"><div class=\"sk-item\"><div class=\"sk-label-container\"><div class=\"sk-label fitted sk-toggleable\"><input class=\"sk-toggleable__control sk-hidden--visually\" id=\"sk-estimator-id-11\" type=\"checkbox\" ><label for=\"sk-estimator-id-11\" class=\"sk-toggleable__label fitted sk-toggleable__label-arrow fitted\">best_estimator_: DecisionTreeClassifier</label><div class=\"sk-toggleable__content fitted\"><pre>DecisionTreeClassifier(max_depth=4)</pre></div> </div></div><div class=\"sk-serial\"><div class=\"sk-item\"><div class=\"sk-estimator fitted sk-toggleable\"><input class=\"sk-toggleable__control sk-hidden--visually\" id=\"sk-estimator-id-12\" type=\"checkbox\" ><label for=\"sk-estimator-id-12\" class=\"sk-toggleable__label fitted sk-toggleable__label-arrow fitted\">&nbsp;DecisionTreeClassifier<a class=\"sk-estimator-doc-link fitted\" rel=\"noreferrer\" target=\"_blank\" href=\"https://scikit-learn.org/1.5/modules/generated/sklearn.tree.DecisionTreeClassifier.html\">?<span>Documentation for DecisionTreeClassifier</span></a></label><div class=\"sk-toggleable__content fitted\"><pre>DecisionTreeClassifier(max_depth=4)</pre></div> </div></div></div></div></div></div></div></div></div>"
      ],
      "text/plain": [
       "GridSearchCV(cv=10, estimator=DecisionTreeClassifier(),\n",
       "             param_grid=[{'criterion': ['gini', 'emtropy'],\n",
       "                          'max_depth': range(2, 10)}],\n",
       "             scoring='roc_auc')"
      ]
     },
     "execution_count": 171,
     "metadata": {},
     "output_type": "execute_result"
    }
   ],
   "source": [
    "# finding Optimal Criteria and Max Depth\n",
    "\n",
    "parameters = [{'criterion' : ['gini', 'emtropy'],\n",
    "               'max_depth' : range(2, 10)}]\n",
    "clf_tree = DecisionTreeClassifier()\n",
    "clf = GridSearchCV(clf_tree,\n",
    "                   parameters,\n",
    "                   cv=10,\n",
    "                   scoring='roc_auc')\n",
    "\n",
    "clf.fit(X_train[significant_vars], y_train)"
   ]
  },
  {
   "cell_type": "code",
   "execution_count": 158,
   "metadata": {},
   "outputs": [
    {
     "data": {
      "text/plain": [
       "0.6975580480125936"
      ]
     },
     "execution_count": 158,
     "metadata": {},
     "output_type": "execute_result"
    }
   ],
   "source": [
    "clf.best_score_"
   ]
  },
  {
   "cell_type": "code",
   "execution_count": 159,
   "metadata": {},
   "outputs": [
    {
     "data": {
      "text/plain": [
       "{'criterion': 'gini', 'max_depth': 5}"
      ]
     },
     "execution_count": 159,
     "metadata": {},
     "output_type": "execute_result"
    }
   ],
   "source": [
    "clf.best_params_"
   ]
  },
  {
   "cell_type": "code",
   "execution_count": 169,
   "metadata": {},
   "outputs": [],
   "source": [
    "clf_tree= DecisionTreeClassifier(\n",
    "    criterion='gini',\n",
    "    max_depth=5\n",
    ")\n",
    "clf_tree.fit(X_train[significant_vars], y_train)\n",
    "y_pred_df['tree_predict'] = clf_tree.predict(X_test[significant_vars])"
   ]
  },
  {
   "cell_type": "code",
   "execution_count": 170,
   "metadata": {},
   "outputs": [
    {
     "data": {
      "text/plain": [
       "(0.6908709106984969, 0.5975906277630416, 0.6427939876215738)"
      ]
     },
     "execution_count": 170,
     "metadata": {},
     "output_type": "execute_result"
    }
   ],
   "source": [
    "#comparing decision tree classifier and logistic regression model performance\n",
    "\n",
    "roc_auc_score_clf_tree = metrics.roc_auc_score(y_pred_df.actual, y_pred_df.tree_predict)\n",
    "roc_auc_score_youden_index = metrics.roc_auc_score(y_pred_df.actual, y_pred_df.optimal_pred)\n",
    "roc_auc_score_cost = metrics.roc_auc_score(y_pred_df.actual, y_pred_df.optimal_cost_pred)\n",
    "roc_auc_score_youden_index, roc_auc_score_cost, roc_auc_score_clf_tree"
   ]
  },
  {
   "cell_type": "markdown",
   "metadata": {},
   "source": [
    "Hence logistic regression model using Youden's index gives the best performance out of these three models."
   ]
  }
 ],
 "metadata": {
  "kernelspec": {
   "display_name": "Python 3",
   "language": "python",
   "name": "python3"
  },
  "language_info": {
   "codemirror_mode": {
    "name": "ipython",
    "version": 3
   },
   "file_extension": ".py",
   "mimetype": "text/x-python",
   "name": "python",
   "nbconvert_exporter": "python",
   "pygments_lexer": "ipython3",
   "version": "3.12.4"
  }
 },
 "nbformat": 4,
 "nbformat_minor": 2
}
